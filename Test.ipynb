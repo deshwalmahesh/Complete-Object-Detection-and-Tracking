{
 "cells": [
  {
   "cell_type": "code",
   "execution_count": 1,
   "metadata": {},
   "outputs": [],
   "source": [
    "from Object_Det_Trac_coun import *"
   ]
  },
  {
   "cell_type": "markdown",
   "metadata": {},
   "source": [
    "# Detect General Objects"
   ]
  },
  {
   "cell_type": "code",
   "execution_count": 3,
   "metadata": {},
   "outputs": [],
   "source": [
    "a = ObjecteDetector('../model_files/yolov3.cfg','../model_files/yolov3.weights')\n",
    "a.detect('../model_files/coco.names',find=['cell phone','person'])"
   ]
  },
  {
   "cell_type": "markdown",
   "metadata": {},
   "source": [
    "# Track general Objects"
   ]
  },
  {
   "cell_type": "code",
   "execution_count": 4,
   "metadata": {},
   "outputs": [
    {
     "name": "stderr",
     "output_type": "stream",
     "text": [
      "C:\\Users\\admin\\Desktop\\ML Study\\Tracking Object\\script\\Object_Det_Trac_coun.py:424: UserWarning: 'opencv-contrib' needed. Use 'pip install opencv-contrib'\n",
      "  warnings.warn(\"'opencv-contrib' needed. Use 'pip install opencv-contrib'\")\n"
     ]
    }
   ],
   "source": [
    "a = ObjectTracker('../model_files/yolov3.cfg','../model_files/yolov3.weights')\n",
    "a.track_object('../model_files/coco.names',find='person',count_at_t=True,unique=True)"
   ]
  },
  {
   "cell_type": "markdown",
   "metadata": {},
   "source": [
    "# Track Face"
   ]
  },
  {
   "cell_type": "code",
   "execution_count": null,
   "metadata": {},
   "outputs": [],
   "source": [
    "a = FaceTracker('../model_files/deploy.prototxt','../model_files/res10_300x300_ssd_iter_140000.caffemodel')\n",
    "a.track()"
   ]
  },
  {
   "cell_type": "markdown",
   "metadata": {},
   "source": [
    "# Detect Using HaarCascade"
   ]
  },
  {
   "cell_type": "code",
   "execution_count": 2,
   "metadata": {},
   "outputs": [],
   "source": [
    "path = cv2.data.haarcascades +'haarcascade_frontalface_default.xml'\n",
    "a = HaarCascadeFeatures(path,label = 'face')\n",
    "a.detect()"
   ]
  },
  {
   "cell_type": "code",
   "execution_count": null,
   "metadata": {},
   "outputs": [],
   "source": []
  }
 ],
 "metadata": {
  "kernelspec": {
   "display_name": "Python 3",
   "language": "python",
   "name": "python3"
  },
  "language_info": {
   "codemirror_mode": {
    "name": "ipython",
    "version": 3
   },
   "file_extension": ".py",
   "mimetype": "text/x-python",
   "name": "python",
   "nbconvert_exporter": "python",
   "pygments_lexer": "ipython3",
   "version": "3.8.3"
  }
 },
 "nbformat": 4,
 "nbformat_minor": 4
}
