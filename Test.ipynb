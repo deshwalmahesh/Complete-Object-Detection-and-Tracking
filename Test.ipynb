{
 "cells": [
  {
   "cell_type": "markdown",
   "metadata": {},
   "source": [
    "## Detect & Track General Objects"
   ]
  },
  {
   "cell_type": "code",
   "execution_count": 2,
   "metadata": {},
   "outputs": [
    {
     "name": "stderr",
     "output_type": "stream",
     "text": [
      "C:\\Users\\admin\\Desktop\\ML Study\\Tracking Object\\script\\Object_Det_Trac_coun.py:358: UserWarning: 'opencv-contrib' needed. Use 'pip install opencv-contrib'\n",
      "  warnings.warn(\"'opencv-contrib' needed. Use 'pip install opencv-contrib'\")\n"
     ]
    }
   ],
   "source": [
    "from Object_Det_Trac_coun import *\n",
    "\n",
    "a = DLObjectDetector('../model_files/yolov3.cfg','../model_files/yolov3.weights')\n",
    "# a.perform('../model_files/coco.names',kind='detect') # detect\n",
    "a.perform('../model_files/coco.names',count_at_t=True,unique=True,kind='track',find='cell phone') # detect"
   ]
  },
  {
   "cell_type": "markdown",
   "metadata": {},
   "source": [
    "## Detect Using HaarCascade"
   ]
  },
  {
   "cell_type": "code",
   "execution_count": 2,
   "metadata": {},
   "outputs": [],
   "source": [
    "from Object_Det_Trac_coun import *\n",
    "\n",
    "path = cv2.data.haarcascades +'haarcascade_frontalface_default.xml' # Use for Car etc\n",
    "a = HaarCascadeTracker(path,label ='face')\n",
    "a.track()"
   ]
  },
  {
   "cell_type": "markdown",
   "metadata": {},
   "source": [
    "## Background Separation based"
   ]
  },
  {
   "cell_type": "code",
   "execution_count": 3,
   "metadata": {},
   "outputs": [],
   "source": [
    "from Object_Det_Trac_coun import *\n",
    "\n",
    "def remove_small_contour(contour):\n",
    "    if cv2.contourArea(contour) < 1500:\n",
    "        return False\n",
    "    (x,y,w,h) = cv2.boundingRect(contour)\n",
    "    if w < 80 or w > 500 or h < 80 or h > 500 or h>w: \n",
    "        return False\n",
    "    return True\n",
    "\n",
    "a = ContourBasedFeatures()\n",
    "a.perform(method=remove_small_contour,filename='../data/cars.mp4',crop=None)\n",
    "# a.perform(filename='../data/people.mp4',crop=None,kind='detect')"
   ]
  }
 ],
 "metadata": {
  "kernelspec": {
   "display_name": "Python 3",
   "language": "python",
   "name": "python3"
  },
  "language_info": {
   "codemirror_mode": {
    "name": "ipython",
    "version": 3
   },
   "file_extension": ".py",
   "mimetype": "text/x-python",
   "name": "python",
   "nbconvert_exporter": "python",
   "pygments_lexer": "ipython3",
   "version": "3.8.3"
  }
 },
 "nbformat": 4,
 "nbformat_minor": 4
}
