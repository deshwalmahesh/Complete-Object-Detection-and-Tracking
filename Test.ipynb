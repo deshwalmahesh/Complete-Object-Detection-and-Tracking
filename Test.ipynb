{
 "cells": [
  {
   "cell_type": "markdown",
   "metadata": {},
   "source": [
    "# CV"
   ]
  },
  {
   "cell_type": "code",
   "execution_count": 1,
   "metadata": {},
   "outputs": [],
   "source": [
    "from Object_Det_Trac_coun import *"
   ]
  },
  {
   "cell_type": "markdown",
   "metadata": {},
   "source": [
    "## Detect & Track General Objects"
   ]
  },
  {
   "cell_type": "code",
   "execution_count": null,
   "metadata": {},
   "outputs": [],
   "source": [
    "a = DLObjectDetector('../model_files/yolov3.cfg','../model_files/yolov3.weights')\n",
    "# a.detect_object('../model_files/coco.names',find=['cell phone','person']) # Detect\n",
    "a.track_object('../model_files/coco.names',find='person',count_at_t=True,unique=True) # Track"
   ]
  },
  {
   "cell_type": "markdown",
   "metadata": {},
   "source": [
    "## Detect Using HaarCascade"
   ]
  },
  {
   "cell_type": "code",
   "execution_count": 2,
   "metadata": {},
   "outputs": [],
   "source": [
    "path = cv2.data.haarcascades +'haarcascade_frontalface_default.xml' # Use for Car etc\n",
    "a = HaarCascadeFeatures(path,label = 'face')\n",
    "a.detect()"
   ]
  },
  {
   "cell_type": "markdown",
   "metadata": {},
   "source": [
    "# NLP"
   ]
  },
  {
   "cell_type": "code",
   "execution_count": 8,
   "metadata": {},
   "outputs": [
    {
     "name": "stdout",
     "output_type": "stream",
     "text": [
      "Text: Barack Obama was born in Hawaii. Richard Manning wrote this sentence..\n",
      "Starting server with command: java -Xmx8G -cp C:\\Users\\admin\\stanfordnlp_resources\\stanford-corenlp-full-2018-10-05/* edu.stanford.nlp.pipeline.StanfordCoreNLPServer -port 9000 -timeout 60000 -threads 5 -maxCharLength 100000 -quiet True -serverProperties corenlp_server-2763159328134fc7.props -preload openie\n",
      "|- {'subject': 'Barack Obama', 'relation': 'was', 'object': 'born'}\n",
      "|- {'subject': 'Barack Obama', 'relation': 'was born in', 'object': 'Hawaii'}\n",
      "|- {'subject': 'Richard Manning', 'relation': 'wrote', 'object': 'sentence'}\n"
     ]
    }
   ],
   "source": [
    "# https://pypi.org/project/stanford-openie/\n",
    "from openie import StanfordOpenIE\n",
    "\n",
    "with StanfordOpenIE() as client:\n",
    "    text = 'Barack Obama was born in Hawaii. Richard Manning wrote this sentence.'\n",
    "    print('Text: %s.' % text)\n",
    "    for triple in client.annotate(text):\n",
    "        print('|-', triple)"
   ]
  }
 ],
 "metadata": {
  "kernelspec": {
   "display_name": "Python 3",
   "language": "python",
   "name": "python3"
  },
  "language_info": {
   "codemirror_mode": {
    "name": "ipython",
    "version": 3
   },
   "file_extension": ".py",
   "mimetype": "text/x-python",
   "name": "python",
   "nbconvert_exporter": "python",
   "pygments_lexer": "ipython3",
   "version": "3.8.3"
  }
 },
 "nbformat": 4,
 "nbformat_minor": 4
}
